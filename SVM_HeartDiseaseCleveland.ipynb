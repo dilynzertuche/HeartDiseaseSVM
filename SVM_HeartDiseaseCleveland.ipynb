{
 "cells": [
  {
   "cell_type": "code",
   "execution_count": 38,
   "metadata": {},
   "outputs": [],
   "source": [
    "#Import Packages\n",
    "from sklearn import svm\n",
    "from sklearn.model_selection import train_test_split\n",
    "import pandas as pd\n",
    "from sklearn import metrics"
   ]
  },
  {
   "cell_type": "code",
   "execution_count": 36,
   "metadata": {},
   "outputs": [],
   "source": [
    "#Import Data and Convert to Data Frame\n",
    "column_names = ['Age', 'Sex', 'CP', 'TRestBPS', 'Chol', 'FBS', 'RestECG', 'MaxHR', 'ExAng', 'OldPeak', 'Slope', 'CA', 'Thal', 'Diagnosis']\n",
    "cleveland_raw = pd.read_csv('/Users/dilynzertuche/Desktop/VisualStudio/Python Projects/Data Sets/heart+disease/processed.cleveland.data', names = column_names)\n",
    "\n",
    "#Data Wrangling\n",
    "cleveland_processed_1 = cleveland_raw.replace('?', )\n",
    "cleveland_processed_1.dropna()\n",
    "\n",
    "\n",
    "#Set Variables\n",
    "X = cleveland_processed_1.drop('Diagnosis', axis = 1)\n",
    "x = X.values\n",
    "y = cleveland_processed_1['Diagnosis']\n",
    "y = y.values"
   ]
  },
  {
   "cell_type": "code",
   "execution_count": 60,
   "metadata": {},
   "outputs": [],
   "source": [
    "#Split Model Into Training and Testing Sets\n",
    "X_train, X_test, y_train, y_test = train_test_split(x, y, test_size=0.3, random_state=12345)\n",
    "\n",
    "clf = svm.SVC(C = 1.0, kernel = 'linear', degree = 3, gamma = 'auto')\n",
    "\n",
    "clf.fit(X_train, y_train)\n",
    "\n",
    "y_pred = clf.predict(X_test)"
   ]
  },
  {
   "cell_type": "code",
   "execution_count": 61,
   "metadata": {},
   "outputs": [
    {
     "name": "stdout",
     "output_type": "stream",
     "text": [
      "Accuracy: 0.637363\n"
     ]
    }
   ],
   "source": [
    "#Evaluate the Model\n",
    "print(\"Accuracy: %4f\" % metrics.accuracy_score(y_test, y_pred))"
   ]
  }
 ],
 "metadata": {
  "kernelspec": {
   "display_name": "base",
   "language": "python",
   "name": "python3"
  },
  "language_info": {
   "codemirror_mode": {
    "name": "ipython",
    "version": 3
   },
   "file_extension": ".py",
   "mimetype": "text/x-python",
   "name": "python",
   "nbconvert_exporter": "python",
   "pygments_lexer": "ipython3",
   "version": "3.11.3"
  },
  "orig_nbformat": 4
 },
 "nbformat": 4,
 "nbformat_minor": 2
}
